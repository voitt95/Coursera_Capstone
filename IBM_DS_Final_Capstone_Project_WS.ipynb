{
 "cells": [
  {
   "cell_type": "code",
   "execution_count": 1,
   "metadata": {},
   "outputs": [],
   "source": [
    "import pandas as pd\n",
    "import numpy as np\n",
    "import json # library to handle JSON files\n",
    "import requests # library to handle requests\n",
    "from pandas.io.json import json_normalize # tranform JSON file into a pandas dataframe\n"
   ]
  },
  {
   "cell_type": "markdown",
   "metadata": {},
   "source": [
    "### Importing preprocessed data of New York from previous labs"
   ]
  },
  {
   "cell_type": "code",
   "execution_count": 2,
   "metadata": {},
   "outputs": [],
   "source": [
    "ny_data=pd.read_csv('NewYork.csv')"
   ]
  },
  {
   "cell_type": "code",
   "execution_count": 3,
   "metadata": {
    "scrolled": true
   },
   "outputs": [
    {
     "data": {
      "text/html": [
       "<div>\n",
       "<style scoped>\n",
       "    .dataframe tbody tr th:only-of-type {\n",
       "        vertical-align: middle;\n",
       "    }\n",
       "\n",
       "    .dataframe tbody tr th {\n",
       "        vertical-align: top;\n",
       "    }\n",
       "\n",
       "    .dataframe thead th {\n",
       "        text-align: right;\n",
       "    }\n",
       "</style>\n",
       "<table border=\"1\" class=\"dataframe\">\n",
       "  <thead>\n",
       "    <tr style=\"text-align: right;\">\n",
       "      <th></th>\n",
       "      <th>Borough</th>\n",
       "      <th>Neighborhood</th>\n",
       "      <th>Latitude</th>\n",
       "      <th>Longitude</th>\n",
       "    </tr>\n",
       "  </thead>\n",
       "  <tbody>\n",
       "    <tr>\n",
       "      <th>0</th>\n",
       "      <td>Bronx</td>\n",
       "      <td>Wakefield</td>\n",
       "      <td>40.894705</td>\n",
       "      <td>-73.847201</td>\n",
       "    </tr>\n",
       "    <tr>\n",
       "      <th>1</th>\n",
       "      <td>Bronx</td>\n",
       "      <td>Co-op City</td>\n",
       "      <td>40.874294</td>\n",
       "      <td>-73.829939</td>\n",
       "    </tr>\n",
       "    <tr>\n",
       "      <th>2</th>\n",
       "      <td>Bronx</td>\n",
       "      <td>Eastchester</td>\n",
       "      <td>40.887556</td>\n",
       "      <td>-73.827806</td>\n",
       "    </tr>\n",
       "    <tr>\n",
       "      <th>3</th>\n",
       "      <td>Bronx</td>\n",
       "      <td>Fieldston</td>\n",
       "      <td>40.895437</td>\n",
       "      <td>-73.905643</td>\n",
       "    </tr>\n",
       "    <tr>\n",
       "      <th>4</th>\n",
       "      <td>Bronx</td>\n",
       "      <td>Riverdale</td>\n",
       "      <td>40.890834</td>\n",
       "      <td>-73.912585</td>\n",
       "    </tr>\n",
       "  </tbody>\n",
       "</table>\n",
       "</div>"
      ],
      "text/plain": [
       "  Borough Neighborhood   Latitude  Longitude\n",
       "0   Bronx    Wakefield  40.894705 -73.847201\n",
       "1   Bronx   Co-op City  40.874294 -73.829939\n",
       "2   Bronx  Eastchester  40.887556 -73.827806\n",
       "3   Bronx    Fieldston  40.895437 -73.905643\n",
       "4   Bronx    Riverdale  40.890834 -73.912585"
      ]
     },
     "execution_count": 3,
     "metadata": {},
     "output_type": "execute_result"
    }
   ],
   "source": [
    "ny_data.drop(columns='Unnamed: 0',inplace=True)\n",
    "ny_data.head()"
   ]
  },
  {
   "cell_type": "code",
   "execution_count": 4,
   "metadata": {},
   "outputs": [
    {
     "data": {
      "text/plain": [
       "(306, 4)"
      ]
     },
     "execution_count": 4,
     "metadata": {},
     "output_type": "execute_result"
    }
   ],
   "source": [
    "ny_data.shape"
   ]
  },
  {
   "cell_type": "markdown",
   "metadata": {},
   "source": [
    "### Inserting my credentials for Foursquare API"
   ]
  },
  {
   "cell_type": "code",
   "execution_count": 5,
   "metadata": {},
   "outputs": [
    {
     "name": "stdout",
     "output_type": "stream",
     "text": [
      "Your credentails:\n",
      "CLIENT_ID: QQSV0QMWWO1CPYYR3CVOC2ONQQP2P3L5WVHAYIA2TVDCFHEJ\n",
      "CLIENT_SECRET:JZXJWSHBDWLBFNV1HD00HQZOENARP4JLMXLOLUAVU1WEZ4TY\n"
     ]
    }
   ],
   "source": [
    "CLIENT_ID = 'QQSV0QMWWO1CPYYR3CVOC2ONQQP2P3L5WVHAYIA2TVDCFHEJ' # your Foursquare ID\n",
    "CLIENT_SECRET = 'JZXJWSHBDWLBFNV1HD00HQZOENARP4JLMXLOLUAVU1WEZ4TY' # your Foursquare Secret\n",
    "VERSION = '20200814' # Foursquare API version\n",
    "\n",
    "print('Your credentails:')\n",
    "print('CLIENT_ID: ' + CLIENT_ID)\n",
    "print('CLIENT_SECRET:' + CLIENT_SECRET)"
   ]
  },
  {
   "cell_type": "markdown",
   "metadata": {},
   "source": [
    "### Defining function to get 100 venues for each neighborhood"
   ]
  },
  {
   "cell_type": "code",
   "execution_count": 6,
   "metadata": {},
   "outputs": [],
   "source": [
    "def getNearbyVenues(names, latitudes, longitudes, radius=500):\n",
    "    radius=500\n",
    "    LIMIT=100\n",
    "    venues_list=[]\n",
    "    for name, lat, lng in zip(names, latitudes, longitudes):\n",
    "        \n",
    "            \n",
    "        # create the API request URL\n",
    "        url = 'https://api.foursquare.com/v2/venues/explore?&client_id={}&client_secret={}&v={}&ll={},{}&radius={}&limit={}'.format(\n",
    "            CLIENT_ID, \n",
    "            CLIENT_SECRET, \n",
    "            VERSION, \n",
    "            lat, \n",
    "            lng, \n",
    "            radius, \n",
    "            LIMIT)\n",
    "            \n",
    "        # make the GET request\n",
    "        results = requests.get(url).json()[\"response\"]['groups'][0]['items']\n",
    "        \n",
    "        # return only relevant information for each nearby venue\n",
    "        venues_list.append([(\n",
    "            name, \n",
    "            lat, \n",
    "            lng, \n",
    "            v['venue']['name'],\n",
    "            v['venue']['location']['lat'], \n",
    "            v['venue']['location']['lng'],\n",
    "            v['venue']['categories'][0]['name']) for v in results])\n",
    "\n",
    "    nearby_venues = pd.DataFrame([item for venue_list in venues_list for item in venue_list])\n",
    "    nearby_venues.columns = ['Neighborhood', \n",
    "                  'Neighborhood Latitude', \n",
    "                  'Neighborhood Longitude', \n",
    "                  'Venue',           \n",
    "                  'Venue Latitude', \n",
    "                  'Venue Longitude', \n",
    "                  'Venue Category']\n",
    "    return(nearby_venues)"
   ]
  },
  {
   "cell_type": "code",
   "execution_count": 7,
   "metadata": {},
   "outputs": [],
   "source": [
    "ny_venues = getNearbyVenues(names=ny_data['Neighborhood'],\n",
    "                                   latitudes=ny_data['Latitude'],\n",
    "                                   longitudes=ny_data['Longitude']\n",
    "                                  )"
   ]
  },
  {
   "cell_type": "code",
   "execution_count": 8,
   "metadata": {},
   "outputs": [
    {
     "name": "stdout",
     "output_type": "stream",
     "text": [
      "Number of venues categories in New York is 430\n"
     ]
    }
   ],
   "source": [
    "print('Number of venues categories in New York is',ny_venues['Venue Category'].nunique())"
   ]
  },
  {
   "cell_type": "code",
   "execution_count": 9,
   "metadata": {},
   "outputs": [],
   "source": [
    "ny_onehot = pd.get_dummies(ny_venues[['Venue Category']], prefix=\"\", prefix_sep=\"\")\n",
    "\n",
    "# add neighborhood column back to dataframe\n",
    "ny_onehot['Neighborhood'] = ny_venues['Neighborhood'] \n",
    "\n",
    "# move neighborhood column to the first column\n",
    "fixed_columns = [ny_onehot.columns[-1]] + list(ny_onehot.columns[:-1])\n",
    "ny_onehot = ny_onehot[fixed_columns]"
   ]
  },
  {
   "cell_type": "code",
   "execution_count": 10,
   "metadata": {},
   "outputs": [],
   "source": [
    "ny_grouped = ny_onehot.groupby('Neighborhood').mean().reset_index()"
   ]
  },
  {
   "cell_type": "markdown",
   "metadata": {},
   "source": [
    "### Defining function to get most common venues in each neighborhood based on frequency"
   ]
  },
  {
   "cell_type": "code",
   "execution_count": 11,
   "metadata": {},
   "outputs": [],
   "source": [
    "def return_most_common_venues(row, num_top_venues):\n",
    "    row_categories = row.iloc[1:]\n",
    "    row_categories_sorted = row_categories.sort_values(ascending=False)\n",
    "    \n",
    "    return row_categories_sorted.index.values[0:num_top_venues]"
   ]
  },
  {
   "cell_type": "markdown",
   "metadata": {},
   "source": [
    "Creating DataFrame of 10 most common venues in New York neighborhoods"
   ]
  },
  {
   "cell_type": "code",
   "execution_count": 12,
   "metadata": {},
   "outputs": [
    {
     "data": {
      "text/html": [
       "<div>\n",
       "<style scoped>\n",
       "    .dataframe tbody tr th:only-of-type {\n",
       "        vertical-align: middle;\n",
       "    }\n",
       "\n",
       "    .dataframe tbody tr th {\n",
       "        vertical-align: top;\n",
       "    }\n",
       "\n",
       "    .dataframe thead th {\n",
       "        text-align: right;\n",
       "    }\n",
       "</style>\n",
       "<table border=\"1\" class=\"dataframe\">\n",
       "  <thead>\n",
       "    <tr style=\"text-align: right;\">\n",
       "      <th></th>\n",
       "      <th>Neighborhood</th>\n",
       "      <th>1st Most Common Venue</th>\n",
       "      <th>2nd Most Common Venue</th>\n",
       "      <th>3rd Most Common Venue</th>\n",
       "      <th>4th Most Common Venue</th>\n",
       "      <th>5th Most Common Venue</th>\n",
       "      <th>6th Most Common Venue</th>\n",
       "      <th>7th Most Common Venue</th>\n",
       "      <th>8th Most Common Venue</th>\n",
       "      <th>9th Most Common Venue</th>\n",
       "      <th>10th Most Common Venue</th>\n",
       "    </tr>\n",
       "  </thead>\n",
       "  <tbody>\n",
       "    <tr>\n",
       "      <th>0</th>\n",
       "      <td>Allerton</td>\n",
       "      <td>Pizza Place</td>\n",
       "      <td>Deli / Bodega</td>\n",
       "      <td>Supermarket</td>\n",
       "      <td>Chinese Restaurant</td>\n",
       "      <td>Discount Store</td>\n",
       "      <td>Breakfast Spot</td>\n",
       "      <td>Fast Food Restaurant</td>\n",
       "      <td>Martial Arts School</td>\n",
       "      <td>Electronics Store</td>\n",
       "      <td>Pharmacy</td>\n",
       "    </tr>\n",
       "    <tr>\n",
       "      <th>1</th>\n",
       "      <td>Annadale</td>\n",
       "      <td>Pizza Place</td>\n",
       "      <td>Dance Studio</td>\n",
       "      <td>Train Station</td>\n",
       "      <td>Park</td>\n",
       "      <td>Pharmacy</td>\n",
       "      <td>Restaurant</td>\n",
       "      <td>American Restaurant</td>\n",
       "      <td>Liquor Store</td>\n",
       "      <td>Diner</td>\n",
       "      <td>Fast Food Restaurant</td>\n",
       "    </tr>\n",
       "    <tr>\n",
       "      <th>2</th>\n",
       "      <td>Arden Heights</td>\n",
       "      <td>Deli / Bodega</td>\n",
       "      <td>Pharmacy</td>\n",
       "      <td>Coffee Shop</td>\n",
       "      <td>Pizza Place</td>\n",
       "      <td>Women's Store</td>\n",
       "      <td>Financial or Legal Service</td>\n",
       "      <td>Exhibit</td>\n",
       "      <td>Eye Doctor</td>\n",
       "      <td>Factory</td>\n",
       "      <td>Falafel Restaurant</td>\n",
       "    </tr>\n",
       "    <tr>\n",
       "      <th>3</th>\n",
       "      <td>Arlington</td>\n",
       "      <td>Grocery Store</td>\n",
       "      <td>Deli / Bodega</td>\n",
       "      <td>Liquor Store</td>\n",
       "      <td>Intersection</td>\n",
       "      <td>American Restaurant</td>\n",
       "      <td>Bus Stop</td>\n",
       "      <td>Field</td>\n",
       "      <td>Fish &amp; Chips Shop</td>\n",
       "      <td>Financial or Legal Service</td>\n",
       "      <td>Filipino Restaurant</td>\n",
       "    </tr>\n",
       "    <tr>\n",
       "      <th>4</th>\n",
       "      <td>Arrochar</td>\n",
       "      <td>Bus Stop</td>\n",
       "      <td>Pizza Place</td>\n",
       "      <td>Italian Restaurant</td>\n",
       "      <td>Deli / Bodega</td>\n",
       "      <td>Food Truck</td>\n",
       "      <td>Hotel</td>\n",
       "      <td>Outdoors &amp; Recreation</td>\n",
       "      <td>Middle Eastern Restaurant</td>\n",
       "      <td>Liquor Store</td>\n",
       "      <td>Bagel Shop</td>\n",
       "    </tr>\n",
       "  </tbody>\n",
       "</table>\n",
       "</div>"
      ],
      "text/plain": [
       "    Neighborhood 1st Most Common Venue 2nd Most Common Venue  \\\n",
       "0       Allerton           Pizza Place         Deli / Bodega   \n",
       "1       Annadale           Pizza Place          Dance Studio   \n",
       "2  Arden Heights         Deli / Bodega              Pharmacy   \n",
       "3      Arlington         Grocery Store         Deli / Bodega   \n",
       "4       Arrochar              Bus Stop           Pizza Place   \n",
       "\n",
       "  3rd Most Common Venue 4th Most Common Venue 5th Most Common Venue  \\\n",
       "0           Supermarket    Chinese Restaurant        Discount Store   \n",
       "1         Train Station                  Park              Pharmacy   \n",
       "2           Coffee Shop           Pizza Place         Women's Store   \n",
       "3          Liquor Store          Intersection   American Restaurant   \n",
       "4    Italian Restaurant         Deli / Bodega            Food Truck   \n",
       "\n",
       "        6th Most Common Venue  7th Most Common Venue  \\\n",
       "0              Breakfast Spot   Fast Food Restaurant   \n",
       "1                  Restaurant    American Restaurant   \n",
       "2  Financial or Legal Service                Exhibit   \n",
       "3                    Bus Stop                  Field   \n",
       "4                       Hotel  Outdoors & Recreation   \n",
       "\n",
       "       8th Most Common Venue       9th Most Common Venue  \\\n",
       "0        Martial Arts School           Electronics Store   \n",
       "1               Liquor Store                       Diner   \n",
       "2                 Eye Doctor                     Factory   \n",
       "3          Fish & Chips Shop  Financial or Legal Service   \n",
       "4  Middle Eastern Restaurant                Liquor Store   \n",
       "\n",
       "  10th Most Common Venue  \n",
       "0               Pharmacy  \n",
       "1   Fast Food Restaurant  \n",
       "2     Falafel Restaurant  \n",
       "3    Filipino Restaurant  \n",
       "4             Bagel Shop  "
      ]
     },
     "execution_count": 12,
     "metadata": {},
     "output_type": "execute_result"
    }
   ],
   "source": [
    "num_top_venues = 10\n",
    "\n",
    "indicators = ['st', 'nd', 'rd']\n",
    "\n",
    "# create columns according to number of top venues\n",
    "columns = ['Neighborhood']\n",
    "for ind in np.arange(num_top_venues):\n",
    "    try:\n",
    "        columns.append('{}{} Most Common Venue'.format(ind+1, indicators[ind]))\n",
    "    except:\n",
    "        columns.append('{}th Most Common Venue'.format(ind+1))\n",
    "\n",
    "# create a new dataframe\n",
    "neighborhoods_venues_sorted = pd.DataFrame(columns=columns)\n",
    "neighborhoods_venues_sorted['Neighborhood'] = ny_grouped['Neighborhood']\n",
    "\n",
    "for ind in np.arange(ny_grouped.shape[0]):\n",
    "    neighborhoods_venues_sorted.iloc[ind, 1:] = return_most_common_venues(ny_grouped.iloc[ind, :], num_top_venues)\n",
    "\n",
    "neighborhoods_venues_sorted.head()"
   ]
  },
  {
   "cell_type": "code",
   "execution_count": 13,
   "metadata": {},
   "outputs": [],
   "source": [
    "import matplotlib.pyplot as plt\n",
    "%matplotlib inline\n",
    "\n",
    "def plot(x, y, xlabel, ylabel):\n",
    "    plt.figure(figsize=(20,10))\n",
    "    plt.plot(np.arange(2, x), y, 'o-')\n",
    "    plt.xlabel(xlabel)\n",
    "    plt.ylabel(ylabel)\n",
    "    plt.xticks(np.arange(2, x))\n",
    "    plt.show()"
   ]
  },
  {
   "cell_type": "markdown",
   "metadata": {},
   "source": [
    "### Checking how many clusters are needed using Silhouette score"
   ]
  },
  {
   "cell_type": "code",
   "execution_count": 14,
   "metadata": {},
   "outputs": [],
   "source": [
    "from sklearn.cluster import KMeans\n",
    "max_range = 8\n",
    "\n",
    "ny_grouped_clustering = ny_grouped.drop('Neighborhood', 1)\n",
    "\n",
    "from sklearn.metrics import silhouette_samples, silhouette_score\n",
    "\n",
    "indices = []\n",
    "scores = []\n",
    "\n",
    "for kclusters in range(2, max_range) :\n",
    "    \n",
    "    # Run k-means clustering\n",
    "    nyg = ny_grouped_clustering\n",
    "    kmeans = KMeans(n_clusters = kclusters, init = 'k-means++', random_state = 0).fit_predict(nyg)\n",
    "    \n",
    "    # Gets the score for the clustering operation performed\n",
    "    score = silhouette_score(nyg, kmeans)\n",
    "    \n",
    "    # Appending the index and score to the respective lists\n",
    "    indices.append(kclusters)\n",
    "    scores.append(score)"
   ]
  },
  {
   "cell_type": "code",
   "execution_count": 15,
   "metadata": {},
   "outputs": [
    {
     "data": {
      "image/png": "[encoded data removed]",
      "text/plain": [
       "<Figure size 1440x720 with 1 Axes>"
      ]
     },
     "metadata": {
      "needs_background": "light"
     },
     "output_type": "display_data"
    }
   ],
   "source": [
    "plot(max_range, scores, \"No. of clusters\", \"Silhouette Score\")"
   ]
  },
  {
   "cell_type": "markdown",
   "metadata": {},
   "source": [
    "### Greatest score is for 3 clusters"
   ]
  },
  {
   "cell_type": "code",
   "execution_count": 16,
   "metadata": {},
   "outputs": [],
   "source": [
    "kmeans = KMeans(n_clusters=3).fit(ny_grouped_clustering)"
   ]
  },
  {
   "cell_type": "code",
   "execution_count": 17,
   "metadata": {},
   "outputs": [
    {
     "data": {
      "text/html": [
       "<div>\n",
       "<style scoped>\n",
       "    .dataframe tbody tr th:only-of-type {\n",
       "        vertical-align: middle;\n",
       "    }\n",
       "\n",
       "    .dataframe tbody tr th {\n",
       "        vertical-align: top;\n",
       "    }\n",
       "\n",
       "    .dataframe thead th {\n",
       "        text-align: right;\n",
       "    }\n",
       "</style>\n",
       "<table border=\"1\" class=\"dataframe\">\n",
       "  <thead>\n",
       "    <tr style=\"text-align: right;\">\n",
       "      <th></th>\n",
       "      <th>Borough</th>\n",
       "      <th>Neighborhood</th>\n",
       "      <th>Latitude</th>\n",
       "      <th>Longitude</th>\n",
       "      <th>Cluster Labels</th>\n",
       "      <th>1st Most Common Venue</th>\n",
       "      <th>2nd Most Common Venue</th>\n",
       "      <th>3rd Most Common Venue</th>\n",
       "      <th>4th Most Common Venue</th>\n",
       "      <th>5th Most Common Venue</th>\n",
       "      <th>6th Most Common Venue</th>\n",
       "      <th>7th Most Common Venue</th>\n",
       "      <th>8th Most Common Venue</th>\n",
       "      <th>9th Most Common Venue</th>\n",
       "      <th>10th Most Common Venue</th>\n",
       "    </tr>\n",
       "  </thead>\n",
       "  <tbody>\n",
       "    <tr>\n",
       "      <th>0</th>\n",
       "      <td>Bronx</td>\n",
       "      <td>Wakefield</td>\n",
       "      <td>40.894705</td>\n",
       "      <td>-73.847201</td>\n",
       "      <td>1</td>\n",
       "      <td>Pharmacy</td>\n",
       "      <td>Gas Station</td>\n",
       "      <td>Donut Shop</td>\n",
       "      <td>Laundromat</td>\n",
       "      <td>Ice Cream Shop</td>\n",
       "      <td>Pizza Place</td>\n",
       "      <td>Food</td>\n",
       "      <td>Dessert Shop</td>\n",
       "      <td>Sandwich Place</td>\n",
       "      <td>Farm</td>\n",
       "    </tr>\n",
       "    <tr>\n",
       "      <th>1</th>\n",
       "      <td>Bronx</td>\n",
       "      <td>Co-op City</td>\n",
       "      <td>40.874294</td>\n",
       "      <td>-73.829939</td>\n",
       "      <td>1</td>\n",
       "      <td>Bus Station</td>\n",
       "      <td>Discount Store</td>\n",
       "      <td>Post Office</td>\n",
       "      <td>Grocery Store</td>\n",
       "      <td>Basketball Court</td>\n",
       "      <td>Pizza Place</td>\n",
       "      <td>Pharmacy</td>\n",
       "      <td>Bagel Shop</td>\n",
       "      <td>Fast Food Restaurant</td>\n",
       "      <td>Restaurant</td>\n",
       "    </tr>\n",
       "    <tr>\n",
       "      <th>2</th>\n",
       "      <td>Bronx</td>\n",
       "      <td>Eastchester</td>\n",
       "      <td>40.887556</td>\n",
       "      <td>-73.827806</td>\n",
       "      <td>1</td>\n",
       "      <td>Deli / Bodega</td>\n",
       "      <td>Bus Station</td>\n",
       "      <td>Caribbean Restaurant</td>\n",
       "      <td>Bus Stop</td>\n",
       "      <td>Diner</td>\n",
       "      <td>Convenience Store</td>\n",
       "      <td>Chinese Restaurant</td>\n",
       "      <td>Fast Food Restaurant</td>\n",
       "      <td>Seafood Restaurant</td>\n",
       "      <td>Automotive Shop</td>\n",
       "    </tr>\n",
       "    <tr>\n",
       "      <th>3</th>\n",
       "      <td>Bronx</td>\n",
       "      <td>Fieldston</td>\n",
       "      <td>40.895437</td>\n",
       "      <td>-73.905643</td>\n",
       "      <td>1</td>\n",
       "      <td>Plaza</td>\n",
       "      <td>River</td>\n",
       "      <td>Bus Station</td>\n",
       "      <td>Women's Store</td>\n",
       "      <td>Exhibit</td>\n",
       "      <td>Eye Doctor</td>\n",
       "      <td>Factory</td>\n",
       "      <td>Falafel Restaurant</td>\n",
       "      <td>Farm</td>\n",
       "      <td>Farmers Market</td>\n",
       "    </tr>\n",
       "    <tr>\n",
       "      <th>4</th>\n",
       "      <td>Bronx</td>\n",
       "      <td>Riverdale</td>\n",
       "      <td>40.890834</td>\n",
       "      <td>-73.912585</td>\n",
       "      <td>1</td>\n",
       "      <td>Bus Station</td>\n",
       "      <td>Park</td>\n",
       "      <td>Bank</td>\n",
       "      <td>Medical Supply Store</td>\n",
       "      <td>Food Truck</td>\n",
       "      <td>Home Service</td>\n",
       "      <td>Plaza</td>\n",
       "      <td>Baseball Field</td>\n",
       "      <td>Gym</td>\n",
       "      <td>Filipino Restaurant</td>\n",
       "    </tr>\n",
       "  </tbody>\n",
       "</table>\n",
       "</div>"
      ],
      "text/plain": [
       "  Borough Neighborhood   Latitude  Longitude  Cluster Labels  \\\n",
       "0   Bronx    Wakefield  40.894705 -73.847201               1   \n",
       "1   Bronx   Co-op City  40.874294 -73.829939               1   \n",
       "2   Bronx  Eastchester  40.887556 -73.827806               1   \n",
       "3   Bronx    Fieldston  40.895437 -73.905643               1   \n",
       "4   Bronx    Riverdale  40.890834 -73.912585               1   \n",
       "\n",
       "  1st Most Common Venue 2nd Most Common Venue 3rd Most Common Venue  \\\n",
       "0              Pharmacy           Gas Station            Donut Shop   \n",
       "1           Bus Station        Discount Store           Post Office   \n",
       "2         Deli / Bodega           Bus Station  Caribbean Restaurant   \n",
       "3                 Plaza                 River           Bus Station   \n",
       "4           Bus Station                  Park                  Bank   \n",
       "\n",
       "  4th Most Common Venue 5th Most Common Venue 6th Most Common Venue  \\\n",
       "0            Laundromat        Ice Cream Shop           Pizza Place   \n",
       "1         Grocery Store      Basketball Court           Pizza Place   \n",
       "2              Bus Stop                 Diner     Convenience Store   \n",
       "3         Women's Store               Exhibit            Eye Doctor   \n",
       "4  Medical Supply Store            Food Truck          Home Service   \n",
       "\n",
       "  7th Most Common Venue 8th Most Common Venue 9th Most Common Venue  \\\n",
       "0                  Food          Dessert Shop        Sandwich Place   \n",
       "1              Pharmacy            Bagel Shop  Fast Food Restaurant   \n",
       "2    Chinese Restaurant  Fast Food Restaurant    Seafood Restaurant   \n",
       "3               Factory    Falafel Restaurant                  Farm   \n",
       "4                 Plaza        Baseball Field                   Gym   \n",
       "\n",
       "  10th Most Common Venue  \n",
       "0                   Farm  \n",
       "1             Restaurant  \n",
       "2        Automotive Shop  \n",
       "3         Farmers Market  \n",
       "4    Filipino Restaurant  "
      ]
     },
     "execution_count": 17,
     "metadata": {},
     "output_type": "execute_result"
    }
   ],
   "source": [
    "# add clustering labels\n",
    "neighborhoods_venues_sorted.insert(0, 'Cluster Labels', kmeans.labels_)\n",
    "\n",
    "ny_merged = ny_data\n",
    "\n",
    "# merge toronto_grouped with toronto_data to add latitude/longitude for each neighborhood\n",
    "ny_merged = ny_merged.join(neighborhoods_venues_sorted.set_index('Neighborhood'), on='Neighborhood')\n",
    "\n",
    "ny_merged.head() # check the last columns!"
   ]
  },
  {
   "cell_type": "markdown",
   "metadata": {},
   "source": [
    "#### Checking how many neighborhoods are in each cluster."
   ]
  },
  {
   "cell_type": "code",
   "execution_count": 18,
   "metadata": {},
   "outputs": [
    {
     "data": {
      "text/plain": [
       "1    300\n",
       "0      5\n",
       "2      1\n",
       "Name: Cluster Labels, dtype: int64"
      ]
     },
     "execution_count": 18,
     "metadata": {},
     "output_type": "execute_result"
    }
   ],
   "source": [
    "ny_merged['Cluster Labels'].value_counts()"
   ]
  },
  {
   "cell_type": "markdown",
   "metadata": {},
   "source": [
    "#### Checking distibution of clusters in Bronx neigborhood."
   ]
  },
  {
   "cell_type": "code",
   "execution_count": 19,
   "metadata": {},
   "outputs": [
    {
     "data": {
      "text/plain": [
       "1    51\n",
       "0     1\n",
       "Name: Cluster Labels, dtype: int64"
      ]
     },
     "execution_count": 19,
     "metadata": {},
     "output_type": "execute_result"
    }
   ],
   "source": [
    "ny_merged[ny_merged['Borough']=='Bronx']['Cluster Labels'].value_counts()"
   ]
  },
  {
   "cell_type": "markdown",
   "metadata": {},
   "source": [
    "### Analysing what is first and second most common venue in clusters 0 and 1"
   ]
  },
  {
   "cell_type": "code",
   "execution_count": 20,
   "metadata": {
    "scrolled": true
   },
   "outputs": [
    {
     "data": {
      "text/plain": [
       "Park          3\n",
       "Playground    1\n",
       "Trail         1\n",
       "Name: 1st Most Common Venue, dtype: int64"
      ]
     },
     "execution_count": 20,
     "metadata": {},
     "output_type": "execute_result"
    }
   ],
   "source": [
    "ny_cluster_0=ny_merged.loc[ny_merged['Cluster Labels'] == 0, ny_merged.columns[[1] + list(range(5, ny_merged.shape[1]))]]\n",
    "ny_cluster_0['1st Most Common Venue'].value_counts()"
   ]
  },
  {
   "cell_type": "code",
   "execution_count": 21,
   "metadata": {},
   "outputs": [
    {
     "data": {
      "text/plain": [
       "Women's Store                2\n",
       "Park                         1\n",
       "South American Restaurant    1\n",
       "Bagel Shop                   1\n",
       "Name: 2nd Most Common Venue, dtype: int64"
      ]
     },
     "execution_count": 21,
     "metadata": {},
     "output_type": "execute_result"
    }
   ],
   "source": [
    "ny_cluster_0['2nd Most Common Venue'].value_counts()"
   ]
  },
  {
   "cell_type": "code",
   "execution_count": 23,
   "metadata": {},
   "outputs": [
    {
     "data": {
      "text/plain": [
       "Pizza Place            28\n",
       "Italian Restaurant     28\n",
       "Deli / Bodega          25\n",
       "Coffee Shop            17\n",
       "Bar                    13\n",
       "                       ..\n",
       "Spanish Restaurant      1\n",
       "Rental Car Location     1\n",
       "Thai Restaurant         1\n",
       "Arts & Crafts Store     1\n",
       "Lounge                  1\n",
       "Name: 1st Most Common Venue, Length: 77, dtype: int64"
      ]
     },
     "execution_count": 23,
     "metadata": {},
     "output_type": "execute_result"
    }
   ],
   "source": [
    "ny_cluster_1=ny_merged.loc[ny_merged['Cluster Labels'] == 1, ny_merged.columns[[1] + list(range(5, ny_merged.shape[1]))]]\n",
    "ny_cluster_1['1st Most Common Venue'].value_counts()"
   ]
  },
  {
   "cell_type": "code",
   "execution_count": 24,
   "metadata": {},
   "outputs": [
    {
     "data": {
      "text/plain": [
       "Pizza Place                24\n",
       "Italian Restaurant         19\n",
       "Deli / Bodega              19\n",
       "Coffee Shop                12\n",
       "Bank                       10\n",
       "                           ..\n",
       "Baseball Field              1\n",
       "Department Store            1\n",
       "New American Restaurant     1\n",
       "Athletics & Sports          1\n",
       "Breakfast Spot              1\n",
       "Name: 2nd Most Common Venue, Length: 100, dtype: int64"
      ]
     },
     "execution_count": 24,
     "metadata": {},
     "output_type": "execute_result"
    }
   ],
   "source": [
    "ny_cluster_1['2nd Most Common Venue'].value_counts()"
   ]
  },
  {
   "cell_type": "markdown",
   "metadata": {},
   "source": [
    "## Repeating whole process for Toronto Neighborhood\n",
    "\n",
    "Data preprocessed in previous labs and now only downloaded."
   ]
  },
  {
   "cell_type": "code",
   "execution_count": 25,
   "metadata": {},
   "outputs": [],
   "source": [
    "toronto_data=pd.read_csv('Torontocoordinates.csv')"
   ]
  },
  {
   "cell_type": "code",
   "execution_count": 26,
   "metadata": {},
   "outputs": [
    {
     "data": {
      "text/html": [
       "<div>\n",
       "<style scoped>\n",
       "    .dataframe tbody tr th:only-of-type {\n",
       "        vertical-align: middle;\n",
       "    }\n",
       "\n",
       "    .dataframe tbody tr th {\n",
       "        vertical-align: top;\n",
       "    }\n",
       "\n",
       "    .dataframe thead th {\n",
       "        text-align: right;\n",
       "    }\n",
       "</style>\n",
       "<table border=\"1\" class=\"dataframe\">\n",
       "  <thead>\n",
       "    <tr style=\"text-align: right;\">\n",
       "      <th></th>\n",
       "      <th>Postal Code</th>\n",
       "      <th>Borough</th>\n",
       "      <th>Neighborhood</th>\n",
       "      <th>Latitude</th>\n",
       "      <th>Longitude</th>\n",
       "    </tr>\n",
       "  </thead>\n",
       "  <tbody>\n",
       "    <tr>\n",
       "      <th>0</th>\n",
       "      <td>M3A</td>\n",
       "      <td>North York</td>\n",
       "      <td>Parkwoods</td>\n",
       "      <td>43.753259</td>\n",
       "      <td>-79.329656</td>\n",
       "    </tr>\n",
       "    <tr>\n",
       "      <th>1</th>\n",
       "      <td>M4A</td>\n",
       "      <td>North York</td>\n",
       "      <td>Victoria Village</td>\n",
       "      <td>43.725882</td>\n",
       "      <td>-79.315572</td>\n",
       "    </tr>\n",
       "    <tr>\n",
       "      <th>2</th>\n",
       "      <td>M5A</td>\n",
       "      <td>Downtown Toronto</td>\n",
       "      <td>Regent Park, Harbourfront</td>\n",
       "      <td>43.654260</td>\n",
       "      <td>-79.360636</td>\n",
       "    </tr>\n",
       "    <tr>\n",
       "      <th>3</th>\n",
       "      <td>M6A</td>\n",
       "      <td>North York</td>\n",
       "      <td>Lawrence Manor, Lawrence Heights</td>\n",
       "      <td>43.718518</td>\n",
       "      <td>-79.464763</td>\n",
       "    </tr>\n",
       "    <tr>\n",
       "      <th>4</th>\n",
       "      <td>M7A</td>\n",
       "      <td>Downtown Toronto</td>\n",
       "      <td>Queen's Park, Ontario Provincial Government</td>\n",
       "      <td>43.662301</td>\n",
       "      <td>-79.389494</td>\n",
       "    </tr>\n",
       "  </tbody>\n",
       "</table>\n",
       "</div>"
      ],
      "text/plain": [
       "  Postal Code           Borough                                 Neighborhood  \\\n",
       "0         M3A        North York                                    Parkwoods   \n",
       "1         M4A        North York                             Victoria Village   \n",
       "2         M5A  Downtown Toronto                    Regent Park, Harbourfront   \n",
       "3         M6A        North York             Lawrence Manor, Lawrence Heights   \n",
       "4         M7A  Downtown Toronto  Queen's Park, Ontario Provincial Government   \n",
       "\n",
       "    Latitude  Longitude  \n",
       "0  43.753259 -79.329656  \n",
       "1  43.725882 -79.315572  \n",
       "2  43.654260 -79.360636  \n",
       "3  43.718518 -79.464763  \n",
       "4  43.662301 -79.389494  "
      ]
     },
     "execution_count": 26,
     "metadata": {},
     "output_type": "execute_result"
    }
   ],
   "source": [
    "toronto_data.drop(columns='Unnamed: 0',inplace=True)\n",
    "toronto_data.head()"
   ]
  },
  {
   "cell_type": "code",
   "execution_count": 27,
   "metadata": {},
   "outputs": [],
   "source": [
    "toronto_venues = getNearbyVenues(names=toronto_data['Neighborhood'],\n",
    "                                   latitudes=toronto_data['Latitude'],\n",
    "                                   longitudes=toronto_data['Longitude']\n",
    "                                  )"
   ]
  },
  {
   "cell_type": "code",
   "execution_count": 28,
   "metadata": {},
   "outputs": [
    {
     "data": {
      "text/plain": [
       "(2139, 269)"
      ]
     },
     "execution_count": 28,
     "metadata": {},
     "output_type": "execute_result"
    }
   ],
   "source": [
    "toronto_onehot = pd.get_dummies(toronto_venues[['Venue Category']], prefix=\"\", prefix_sep=\"\")\n",
    "\n",
    "# add neighborhood column back to dataframe\n",
    "toronto_onehot['Neighborhood'] = toronto_venues['Neighborhood'] \n",
    "\n",
    "# move neighborhood column to the first column\n",
    "fixed_columns = [toronto_onehot.columns[-1]] + list(toronto_onehot.columns[:-1])\n",
    "toronto_onehot = toronto_onehot[fixed_columns]\n",
    "\n",
    "toronto_onehot.shape"
   ]
  },
  {
   "cell_type": "code",
   "execution_count": 29,
   "metadata": {},
   "outputs": [],
   "source": [
    "toronto_grouped = toronto_onehot.groupby('Neighborhood').mean().reset_index()\n",
    "for hood in toronto_grouped['Neighborhood']:\n",
    "    temp = toronto_grouped[toronto_grouped['Neighborhood'] == hood].T.reset_index()\n",
    "    temp.columns = ['venue','freq']\n",
    "    temp = temp.iloc[1:]\n",
    "    temp['freq'] = temp['freq'].astype(float)\n",
    "    temp = temp.round({'freq': 2})"
   ]
  },
  {
   "cell_type": "code",
   "execution_count": 46,
   "metadata": {},
   "outputs": [
    {
     "data": {
      "text/html": [
       "<div>\n",
       "<style scoped>\n",
       "    .dataframe tbody tr th:only-of-type {\n",
       "        vertical-align: middle;\n",
       "    }\n",
       "\n",
       "    .dataframe tbody tr th {\n",
       "        vertical-align: top;\n",
       "    }\n",
       "\n",
       "    .dataframe thead th {\n",
       "        text-align: right;\n",
       "    }\n",
       "</style>\n",
       "<table border=\"1\" class=\"dataframe\">\n",
       "  <thead>\n",
       "    <tr style=\"text-align: right;\">\n",
       "      <th></th>\n",
       "      <th>Neighborhood</th>\n",
       "      <th>1st Most Common Venue</th>\n",
       "      <th>2nd Most Common Venue</th>\n",
       "      <th>3rd Most Common Venue</th>\n",
       "      <th>4th Most Common Venue</th>\n",
       "      <th>5th Most Common Venue</th>\n",
       "      <th>6th Most Common Venue</th>\n",
       "      <th>7th Most Common Venue</th>\n",
       "      <th>8th Most Common Venue</th>\n",
       "      <th>9th Most Common Venue</th>\n",
       "      <th>10th Most Common Venue</th>\n",
       "    </tr>\n",
       "  </thead>\n",
       "  <tbody>\n",
       "    <tr>\n",
       "      <th>0</th>\n",
       "      <td>Agincourt</td>\n",
       "      <td>Lounge</td>\n",
       "      <td>Skating Rink</td>\n",
       "      <td>Breakfast Spot</td>\n",
       "      <td>Latin American Restaurant</td>\n",
       "      <td>Electronics Store</td>\n",
       "      <td>Eastern European Restaurant</td>\n",
       "      <td>Dumpling Restaurant</td>\n",
       "      <td>Drugstore</td>\n",
       "      <td>Ethiopian Restaurant</td>\n",
       "      <td>Donut Shop</td>\n",
       "    </tr>\n",
       "    <tr>\n",
       "      <th>1</th>\n",
       "      <td>Alderwood, Long Branch</td>\n",
       "      <td>Pizza Place</td>\n",
       "      <td>Coffee Shop</td>\n",
       "      <td>Sandwich Place</td>\n",
       "      <td>Dance Studio</td>\n",
       "      <td>Pharmacy</td>\n",
       "      <td>Pub</td>\n",
       "      <td>Gym</td>\n",
       "      <td>Airport Lounge</td>\n",
       "      <td>College Gym</td>\n",
       "      <td>Ethiopian Restaurant</td>\n",
       "    </tr>\n",
       "    <tr>\n",
       "      <th>2</th>\n",
       "      <td>Bathurst Manor, Wilson Heights, Downsview North</td>\n",
       "      <td>Bank</td>\n",
       "      <td>Coffee Shop</td>\n",
       "      <td>Sushi Restaurant</td>\n",
       "      <td>Convenience Store</td>\n",
       "      <td>Deli / Bodega</td>\n",
       "      <td>Supermarket</td>\n",
       "      <td>Middle Eastern Restaurant</td>\n",
       "      <td>Restaurant</td>\n",
       "      <td>Mobile Phone Shop</td>\n",
       "      <td>Pizza Place</td>\n",
       "    </tr>\n",
       "    <tr>\n",
       "      <th>3</th>\n",
       "      <td>Bayview Village</td>\n",
       "      <td>Japanese Restaurant</td>\n",
       "      <td>Café</td>\n",
       "      <td>Bank</td>\n",
       "      <td>Chinese Restaurant</td>\n",
       "      <td>Dessert Shop</td>\n",
       "      <td>Diner</td>\n",
       "      <td>Discount Store</td>\n",
       "      <td>Distribution Center</td>\n",
       "      <td>Dog Run</td>\n",
       "      <td>Women's Store</td>\n",
       "    </tr>\n",
       "    <tr>\n",
       "      <th>4</th>\n",
       "      <td>Bedford Park, Lawrence Manor East</td>\n",
       "      <td>Sandwich Place</td>\n",
       "      <td>Italian Restaurant</td>\n",
       "      <td>Restaurant</td>\n",
       "      <td>Coffee Shop</td>\n",
       "      <td>Hobby Shop</td>\n",
       "      <td>Liquor Store</td>\n",
       "      <td>Japanese Restaurant</td>\n",
       "      <td>Indian Restaurant</td>\n",
       "      <td>Pub</td>\n",
       "      <td>Butcher</td>\n",
       "    </tr>\n",
       "  </tbody>\n",
       "</table>\n",
       "</div>"
      ],
      "text/plain": [
       "                                      Neighborhood 1st Most Common Venue  \\\n",
       "0                                        Agincourt                Lounge   \n",
       "1                           Alderwood, Long Branch           Pizza Place   \n",
       "2  Bathurst Manor, Wilson Heights, Downsview North                  Bank   \n",
       "3                                  Bayview Village   Japanese Restaurant   \n",
       "4                Bedford Park, Lawrence Manor East        Sandwich Place   \n",
       "\n",
       "  2nd Most Common Venue 3rd Most Common Venue      4th Most Common Venue  \\\n",
       "0          Skating Rink        Breakfast Spot  Latin American Restaurant   \n",
       "1           Coffee Shop        Sandwich Place               Dance Studio   \n",
       "2           Coffee Shop      Sushi Restaurant          Convenience Store   \n",
       "3                  Café                  Bank         Chinese Restaurant   \n",
       "4    Italian Restaurant            Restaurant                Coffee Shop   \n",
       "\n",
       "  5th Most Common Venue        6th Most Common Venue  \\\n",
       "0     Electronics Store  Eastern European Restaurant   \n",
       "1              Pharmacy                          Pub   \n",
       "2         Deli / Bodega                  Supermarket   \n",
       "3          Dessert Shop                        Diner   \n",
       "4            Hobby Shop                 Liquor Store   \n",
       "\n",
       "       7th Most Common Venue 8th Most Common Venue 9th Most Common Venue  \\\n",
       "0        Dumpling Restaurant             Drugstore  Ethiopian Restaurant   \n",
       "1                        Gym        Airport Lounge           College Gym   \n",
       "2  Middle Eastern Restaurant            Restaurant     Mobile Phone Shop   \n",
       "3             Discount Store   Distribution Center               Dog Run   \n",
       "4        Japanese Restaurant     Indian Restaurant                   Pub   \n",
       "\n",
       "  10th Most Common Venue  \n",
       "0             Donut Shop  \n",
       "1   Ethiopian Restaurant  \n",
       "2            Pizza Place  \n",
       "3          Women's Store  \n",
       "4                Butcher  "
      ]
     },
     "execution_count": 46,
     "metadata": {},
     "output_type": "execute_result"
    }
   ],
   "source": [
    "num_top_venues = 10\n",
    "\n",
    "indicators = ['st', 'nd', 'rd']\n",
    "\n",
    "# create columns according to number of top venues\n",
    "columns = ['Neighborhood']\n",
    "for ind in np.arange(num_top_venues):\n",
    "    try:\n",
    "        columns.append('{}{} Most Common Venue'.format(ind+1, indicators[ind]))\n",
    "    except:\n",
    "        columns.append('{}th Most Common Venue'.format(ind+1))\n",
    "\n",
    "# create a new dataframe\n",
    "neighborhoods_venues_sorted = pd.DataFrame(columns=columns)\n",
    "neighborhoods_venues_sorted['Neighborhood'] = toronto_grouped['Neighborhood']\n",
    "\n",
    "for ind in np.arange(toronto_grouped.shape[0]):\n",
    "    neighborhoods_venues_sorted.iloc[ind, 1:] = return_most_common_venues(toronto_grouped.iloc[ind, :], num_top_venues)\n",
    "\n",
    "neighborhoods_venues_sorted.head()"
   ]
  },
  {
   "cell_type": "code",
   "execution_count": 31,
   "metadata": {},
   "outputs": [],
   "source": [
    "toronto_grouped_clustering = toronto_grouped.drop('Neighborhood', 1)"
   ]
  },
  {
   "cell_type": "code",
   "execution_count": 32,
   "metadata": {},
   "outputs": [
    {
     "data": {
      "image/png": "[encoded data removed]",
      "text/plain": [
       "<Figure size 1440x720 with 1 Axes>"
      ]
     },
     "metadata": {
      "needs_background": "light"
     },
     "output_type": "display_data"
    }
   ],
   "source": [
    "indices = []\n",
    "scores = []\n",
    "for kclusters in range(2, max_range) :\n",
    "    \n",
    "    # Run k-means clustering\n",
    "    torg = toronto_grouped_clustering\n",
    "    kmeans = KMeans(n_clusters = kclusters, init = 'k-means++', random_state = 0).fit_predict(torg)\n",
    "    \n",
    "    # Gets the score for the clustering operation performed\n",
    "    score = silhouette_score(torg, kmeans)\n",
    "    \n",
    "    # Appending the index and score to the respective lists\n",
    "    indices.append(kclusters)\n",
    "    scores.append(score)\n",
    "plot(max_range, scores, \"No. of clusters\", \"Silhouette Score\")"
   ]
  },
  {
   "cell_type": "code",
   "execution_count": 45,
   "metadata": {},
   "outputs": [],
   "source": [
    "tor_kmeans= KMeans(n_clusters=2).fit(toronto_grouped_clustering)"
   ]
  },
  {
   "cell_type": "code",
   "execution_count": 47,
   "metadata": {},
   "outputs": [
    {
     "data": {
      "text/html": [
       "<div>\n",
       "<style scoped>\n",
       "    .dataframe tbody tr th:only-of-type {\n",
       "        vertical-align: middle;\n",
       "    }\n",
       "\n",
       "    .dataframe tbody tr th {\n",
       "        vertical-align: top;\n",
       "    }\n",
       "\n",
       "    .dataframe thead th {\n",
       "        text-align: right;\n",
       "    }\n",
       "</style>\n",
       "<table border=\"1\" class=\"dataframe\">\n",
       "  <thead>\n",
       "    <tr style=\"text-align: right;\">\n",
       "      <th></th>\n",
       "      <th>Postal Code</th>\n",
       "      <th>Borough</th>\n",
       "      <th>Neighborhood</th>\n",
       "      <th>Latitude</th>\n",
       "      <th>Longitude</th>\n",
       "      <th>Cluster Labels</th>\n",
       "      <th>1st Most Common Venue</th>\n",
       "      <th>2nd Most Common Venue</th>\n",
       "      <th>3rd Most Common Venue</th>\n",
       "      <th>4th Most Common Venue</th>\n",
       "      <th>5th Most Common Venue</th>\n",
       "      <th>6th Most Common Venue</th>\n",
       "      <th>7th Most Common Venue</th>\n",
       "      <th>8th Most Common Venue</th>\n",
       "      <th>9th Most Common Venue</th>\n",
       "      <th>10th Most Common Venue</th>\n",
       "    </tr>\n",
       "  </thead>\n",
       "  <tbody>\n",
       "    <tr>\n",
       "      <th>0</th>\n",
       "      <td>M3A</td>\n",
       "      <td>North York</td>\n",
       "      <td>Parkwoods</td>\n",
       "      <td>43.753259</td>\n",
       "      <td>-79.329656</td>\n",
       "      <td>1.0</td>\n",
       "      <td>Park</td>\n",
       "      <td>Food &amp; Drink Shop</td>\n",
       "      <td>Distribution Center</td>\n",
       "      <td>Department Store</td>\n",
       "      <td>Dessert Shop</td>\n",
       "      <td>Dim Sum Restaurant</td>\n",
       "      <td>Diner</td>\n",
       "      <td>Discount Store</td>\n",
       "      <td>Dog Run</td>\n",
       "      <td>Event Space</td>\n",
       "    </tr>\n",
       "    <tr>\n",
       "      <th>1</th>\n",
       "      <td>M4A</td>\n",
       "      <td>North York</td>\n",
       "      <td>Victoria Village</td>\n",
       "      <td>43.725882</td>\n",
       "      <td>-79.315572</td>\n",
       "      <td>0.0</td>\n",
       "      <td>Coffee Shop</td>\n",
       "      <td>Intersection</td>\n",
       "      <td>Pizza Place</td>\n",
       "      <td>Portuguese Restaurant</td>\n",
       "      <td>French Restaurant</td>\n",
       "      <td>Hockey Arena</td>\n",
       "      <td>Women's Store</td>\n",
       "      <td>Discount Store</td>\n",
       "      <td>Department Store</td>\n",
       "      <td>Dessert Shop</td>\n",
       "    </tr>\n",
       "    <tr>\n",
       "      <th>2</th>\n",
       "      <td>M5A</td>\n",
       "      <td>Downtown Toronto</td>\n",
       "      <td>Regent Park, Harbourfront</td>\n",
       "      <td>43.654260</td>\n",
       "      <td>-79.360636</td>\n",
       "      <td>0.0</td>\n",
       "      <td>Coffee Shop</td>\n",
       "      <td>Pub</td>\n",
       "      <td>Bakery</td>\n",
       "      <td>Park</td>\n",
       "      <td>Café</td>\n",
       "      <td>Restaurant</td>\n",
       "      <td>Breakfast Spot</td>\n",
       "      <td>Theater</td>\n",
       "      <td>Gym / Fitness Center</td>\n",
       "      <td>Farmers Market</td>\n",
       "    </tr>\n",
       "    <tr>\n",
       "      <th>3</th>\n",
       "      <td>M6A</td>\n",
       "      <td>North York</td>\n",
       "      <td>Lawrence Manor, Lawrence Heights</td>\n",
       "      <td>43.718518</td>\n",
       "      <td>-79.464763</td>\n",
       "      <td>0.0</td>\n",
       "      <td>Furniture / Home Store</td>\n",
       "      <td>Clothing Store</td>\n",
       "      <td>Accessories Store</td>\n",
       "      <td>Event Space</td>\n",
       "      <td>Vietnamese Restaurant</td>\n",
       "      <td>Coffee Shop</td>\n",
       "      <td>Boutique</td>\n",
       "      <td>Dog Run</td>\n",
       "      <td>Dim Sum Restaurant</td>\n",
       "      <td>Diner</td>\n",
       "    </tr>\n",
       "    <tr>\n",
       "      <th>4</th>\n",
       "      <td>M7A</td>\n",
       "      <td>Downtown Toronto</td>\n",
       "      <td>Queen's Park, Ontario Provincial Government</td>\n",
       "      <td>43.662301</td>\n",
       "      <td>-79.389494</td>\n",
       "      <td>0.0</td>\n",
       "      <td>Coffee Shop</td>\n",
       "      <td>College Cafeteria</td>\n",
       "      <td>Yoga Studio</td>\n",
       "      <td>Beer Bar</td>\n",
       "      <td>Sushi Restaurant</td>\n",
       "      <td>Bank</td>\n",
       "      <td>Bar</td>\n",
       "      <td>Café</td>\n",
       "      <td>Portuguese Restaurant</td>\n",
       "      <td>Diner</td>\n",
       "    </tr>\n",
       "  </tbody>\n",
       "</table>\n",
       "</div>"
      ],
      "text/plain": [
       "  Postal Code           Borough                                 Neighborhood  \\\n",
       "0         M3A        North York                                    Parkwoods   \n",
       "1         M4A        North York                             Victoria Village   \n",
       "2         M5A  Downtown Toronto                    Regent Park, Harbourfront   \n",
       "3         M6A        North York             Lawrence Manor, Lawrence Heights   \n",
       "4         M7A  Downtown Toronto  Queen's Park, Ontario Provincial Government   \n",
       "\n",
       "    Latitude  Longitude  Cluster Labels   1st Most Common Venue  \\\n",
       "0  43.753259 -79.329656             1.0                    Park   \n",
       "1  43.725882 -79.315572             0.0             Coffee Shop   \n",
       "2  43.654260 -79.360636             0.0             Coffee Shop   \n",
       "3  43.718518 -79.464763             0.0  Furniture / Home Store   \n",
       "4  43.662301 -79.389494             0.0             Coffee Shop   \n",
       "\n",
       "  2nd Most Common Venue 3rd Most Common Venue  4th Most Common Venue  \\\n",
       "0     Food & Drink Shop   Distribution Center       Department Store   \n",
       "1          Intersection           Pizza Place  Portuguese Restaurant   \n",
       "2                   Pub                Bakery                   Park   \n",
       "3        Clothing Store     Accessories Store            Event Space   \n",
       "4     College Cafeteria           Yoga Studio               Beer Bar   \n",
       "\n",
       "   5th Most Common Venue 6th Most Common Venue 7th Most Common Venue  \\\n",
       "0           Dessert Shop    Dim Sum Restaurant                 Diner   \n",
       "1      French Restaurant          Hockey Arena         Women's Store   \n",
       "2                   Café            Restaurant        Breakfast Spot   \n",
       "3  Vietnamese Restaurant           Coffee Shop              Boutique   \n",
       "4       Sushi Restaurant                  Bank                   Bar   \n",
       "\n",
       "  8th Most Common Venue  9th Most Common Venue 10th Most Common Venue  \n",
       "0        Discount Store                Dog Run            Event Space  \n",
       "1        Discount Store       Department Store           Dessert Shop  \n",
       "2               Theater   Gym / Fitness Center         Farmers Market  \n",
       "3               Dog Run     Dim Sum Restaurant                  Diner  \n",
       "4                  Café  Portuguese Restaurant                  Diner  "
      ]
     },
     "execution_count": 47,
     "metadata": {},
     "output_type": "execute_result"
    }
   ],
   "source": [
    "# add clustering labels\n",
    "\n",
    "neighborhoods_venues_sorted.insert(0, 'Cluster Labels', tor_kmeans.labels_)\n",
    "\n",
    "\n",
    "toronto_merged = toronto_data\n",
    "\n",
    "# merge toronto_grouped with toronto_data to add latitude/longitude for each neighborhood\n",
    "toronto_merged = toronto_merged.join(neighborhoods_venues_sorted.set_index('Neighborhood'), on='Neighborhood')\n",
    "\n",
    "toronto_merged.head()"
   ]
  },
  {
   "cell_type": "code",
   "execution_count": 48,
   "metadata": {},
   "outputs": [
    {
     "data": {
      "text/plain": [
       "0.0    86\n",
       "1.0    11\n",
       "Name: Cluster Labels, dtype: int64"
      ]
     },
     "execution_count": 48,
     "metadata": {},
     "output_type": "execute_result"
    }
   ],
   "source": [
    "toronto_merged['Cluster Labels'].value_counts()"
   ]
  },
  {
   "cell_type": "code",
   "execution_count": 49,
   "metadata": {},
   "outputs": [],
   "source": [
    "tor_cluster_0=toronto_merged.loc[toronto_merged['Cluster Labels'] == 0, toronto_merged.columns[[1] + list(range(5, toronto_merged.shape[1]))]]"
   ]
  },
  {
   "cell_type": "code",
   "execution_count": 50,
   "metadata": {},
   "outputs": [
    {
     "data": {
      "text/plain": [
       "Coffee Shop                      18\n",
       "Pizza Place                       5\n",
       "Park                              5\n",
       "Grocery Store                     4\n",
       "Café                              4\n",
       "Sandwich Place                    3\n",
       "Clothing Store                    3\n",
       "Trail                             3\n",
       "Fast Food Restaurant              3\n",
       "Lounge                            2\n",
       "Bakery                            2\n",
       "Bar                               2\n",
       "Gym                               2\n",
       "Hotel                             1\n",
       "Convenience Store                 1\n",
       "Japanese Restaurant               1\n",
       "General Entertainment             1\n",
       "Drugstore                         1\n",
       "Fried Chicken Joint               1\n",
       "Gym / Fitness Center              1\n",
       "Indian Restaurant                 1\n",
       "Motel                             1\n",
       "Medical Center                    1\n",
       "Furniture / Home Store            1\n",
       "Pool                              1\n",
       "Construction & Landscaping        1\n",
       "Board Shop                        1\n",
       "Mexican Restaurant                1\n",
       "Mediterranean Restaurant          1\n",
       "Bus Station                       1\n",
       "Smoke Shop                        1\n",
       "Bank                              1\n",
       "Department Store                  1\n",
       "Pub                               1\n",
       "Liquor Store                      1\n",
       "Paper / Office Supplies Store     1\n",
       "Sushi Restaurant                  1\n",
       "Garden                            1\n",
       "Ramen Restaurant                  1\n",
       "Airport Service                   1\n",
       "Breakfast Spot                    1\n",
       "Greek Restaurant                  1\n",
       "Dessert Shop                      1\n",
       "Name: 1st Most Common Venue, dtype: int64"
      ]
     },
     "execution_count": 50,
     "metadata": {},
     "output_type": "execute_result"
    }
   ],
   "source": [
    "tor_cluster_0['1st Most Common Venue'].value_counts()"
   ]
  },
  {
   "cell_type": "code",
   "execution_count": 51,
   "metadata": {},
   "outputs": [
    {
     "data": {
      "text/plain": [
       "Coffee Shop              13\n",
       "Café                      9\n",
       "Grocery Store             4\n",
       "Pub                       3\n",
       "Chinese Restaurant        3\n",
       "Women's Store             2\n",
       "Italian Restaurant        2\n",
       "Bakery                    2\n",
       "Skating Rink              2\n",
       "Vietnamese Restaurant     2\n",
       "Garden Center             2\n",
       "Sandwich Place            2\n",
       "Baseball Field            2\n",
       "Pharmacy                  2\n",
       "Breakfast Spot            2\n",
       "Restaurant                2\n",
       "Gift Shop                 1\n",
       "Japanese Restaurant       1\n",
       "Doner Restaurant          1\n",
       "Golf Course               1\n",
       "Jewelry Store             1\n",
       "Clothing Store            1\n",
       "Field                     1\n",
       "Electronics Store         1\n",
       "Beer Store                1\n",
       "Hotel                     1\n",
       "Indian Restaurant         1\n",
       "Intersection              1\n",
       "Discount Store            1\n",
       "Asian Restaurant          1\n",
       "Aquarium                  1\n",
       "American Restaurant       1\n",
       "Bus Line                  1\n",
       "Pizza Place               1\n",
       "Curling Ice               1\n",
       "Bank                      1\n",
       "Thai Restaurant           1\n",
       "Home Service              1\n",
       "Sporting Goods Shop       1\n",
       "Park                      1\n",
       "College Cafeteria         1\n",
       "Playground                1\n",
       "Convenience Store         1\n",
       "Korean Restaurant         1\n",
       "Gym / Fitness Center      1\n",
       "Fried Chicken Joint       1\n",
       "Airport Lounge            1\n",
       "Gas Station               1\n",
       "Name: 2nd Most Common Venue, dtype: int64"
      ]
     },
     "execution_count": 51,
     "metadata": {},
     "output_type": "execute_result"
    }
   ],
   "source": [
    "tor_cluster_0['2nd Most Common Venue'].value_counts()"
   ]
  },
  {
   "cell_type": "code",
   "execution_count": 52,
   "metadata": {},
   "outputs": [],
   "source": [
    "tor_cluster_1=toronto_merged.loc[toronto_merged['Cluster Labels'] == 1, toronto_merged.columns[[1] + list(range(5, toronto_merged.shape[1]))]]"
   ]
  },
  {
   "cell_type": "code",
   "execution_count": 53,
   "metadata": {},
   "outputs": [
    {
     "data": {
      "text/plain": [
       "Park          10\n",
       "Smoke Shop     1\n",
       "Name: 1st Most Common Venue, dtype: int64"
      ]
     },
     "execution_count": 53,
     "metadata": {},
     "output_type": "execute_result"
    }
   ],
   "source": [
    "tor_cluster_1['1st Most Common Venue'].value_counts()"
   ]
  },
  {
   "cell_type": "code",
   "execution_count": 54,
   "metadata": {},
   "outputs": [
    {
     "data": {
      "text/plain": [
       "Convenience Store             3\n",
       "Construction & Landscaping    1\n",
       "Food & Drink Shop             1\n",
       "River                         1\n",
       "Pool                          1\n",
       "Swim School                   1\n",
       "Asian Restaurant              1\n",
       "Playground                    1\n",
       "Bus Line                      1\n",
       "Name: 2nd Most Common Venue, dtype: int64"
      ]
     },
     "execution_count": 54,
     "metadata": {},
     "output_type": "execute_result"
    }
   ],
   "source": [
    "tor_cluster_1['2nd Most Common Venue'].value_counts()"
   ]
  },
  {
   "cell_type": "markdown",
   "metadata": {},
   "source": [
    "### Providing map of clusters in Toronto"
   ]
  },
  {
   "cell_type": "code",
   "execution_count": 55,
   "metadata": {},
   "outputs": [],
   "source": [
    "from geopy.geocoders import Nominatim # convert an address into latitude and longitude values\n",
    "import matplotlib.cm as cm\n",
    "import matplotlib.colors as colors\n",
    "import folium "
   ]
  },
  {
   "cell_type": "code",
   "execution_count": 56,
   "metadata": {},
   "outputs": [
    {
     "name": "stdout",
     "output_type": "stream",
     "text": [
      "The geograpical coordinate of Toronto are 43.6534817, -79.3839347.\n"
     ]
    }
   ],
   "source": [
    "address = 'Toronto, Ca'\n",
    "\n",
    "geolocator = Nominatim(user_agent=\"ny_explorer\")\n",
    "location = geolocator.geocode(address)\n",
    "latitude = location.latitude\n",
    "longitude = location.longitude\n",
    "print('The geograpical coordinate of Toronto are {}, {}.'.format(latitude, longitude))"
   ]
  },
  {
   "cell_type": "code",
   "execution_count": 66,
   "metadata": {},
   "outputs": [
    {
     "data": {
      "text/html": [
       "<div style=\"width:100%;\"><div style=\"position:relative;width:100%;height:0;padding-bottom:60%;\"><span style=\"color:#565656\">Make this Notebook Trusted to load map: File -> Trust Notebook</span><iframe src=\"about:blank\" style=\"position:absolute;width:100%;height:100%;left:0;top:0;border:none !important;\" data-html=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 onload=\"this.contentDocument.open();this.contentDocument.write(atob(this.getAttribute('data-html')));this.contentDocument.close();\" allowfullscreen webkitallowfullscreen mozallowfullscreen></iframe></div></div>"
      ],
      "text/plain": [
       "<folium.folium.Map at 0x7f96a9611710>"
      ]
     },
     "execution_count": 66,
     "metadata": {},
     "output_type": "execute_result"
    }
   ],
   "source": [
    "\n",
    "# create map\n",
    "map_clusters = folium.Map(location=[latitude, longitude], zoom_start=11)\n",
    "kclusters=3\n",
    "# set color scheme for the clusters\n",
    "x = np.arange(kclusters)\n",
    "ys = [i + x + (i*x)**2 for i in range(kclusters)]\n",
    "colors_array = cm.rainbow(np.linspace(0, 1, len(ys)))\n",
    "rainbow = [colors.rgb2hex(i) for i in colors_array]\n",
    "\n",
    "# add markers to the map\n",
    "markers_colors = []\n",
    "for lat, lon, poi, cluster in zip(toronto_merged['Latitude'], toronto_merged['Longitude'], toronto_merged['Neighborhood'], toronto_merged['Cluster Labels']):\n",
    "    label = folium.Popup(str(poi) + ' Cluster ' + str(cluster), parse_html=True)\n",
    "    folium.CircleMarker(\n",
    "        [lat, lon],\n",
    "        radius=5,\n",
    "        popup=label,\n",
    "        color=rainbow[cluster-1],\n",
    "        fill=True,\n",
    "        fill_color=rainbow[cluster-1],\n",
    "        fill_opacity=0.7).add_to(map_clusters)\n",
    "       \n",
    "map_clusters"
   ]
  },
  {
   "cell_type": "code",
   "execution_count": null,
   "metadata": {},
   "outputs": [],
   "source": []
  }
 ],
 "metadata": {
  "kernelspec": {
   "display_name": "Python 3",
   "language": "python",
   "name": "python3"
  },
  "language_info": {
   "codemirror_mode": {
    "name": "ipython",
    "version": 3
   },
   "file_extension": ".py",
   "mimetype": "text/x-python",
   "name": "python",
   "nbconvert_exporter": "python",
   "pygments_lexer": "ipython3",
   "version": "3.7.6"
  }
 },
 "nbformat": 4,
 "nbformat_minor": 4
}
